{
  "nbformat": 4,
  "nbformat_minor": 0,
  "metadata": {
    "colab": {
      "provenance": [],
      "gpuType": "T4",
      "authorship_tag": "ABX9TyNqa9+gDeBNZBp1s/Gfy3UU",
      "include_colab_link": true
    },
    "kernelspec": {
      "name": "python3",
      "display_name": "Python 3"
    },
    "language_info": {
      "name": "python"
    },
    "accelerator": "GPU"
  },
  "cells": [
    {
      "cell_type": "markdown",
      "metadata": {
        "id": "view-in-github",
        "colab_type": "text"
      },
      "source": [
        "<a href=\"https://colab.research.google.com/github/LorenzEh/LLM-Vaccine-Hesitency/blob/main/LLM_Data_Prep.ipynb\" target=\"_parent\"><img src=\"https://colab.research.google.com/assets/colab-badge.svg\" alt=\"Open In Colab\"/></a>"
      ]
    },
    {
      "cell_type": "markdown",
      "source": [
        "#Data Preparation\n",
        "Data will be pulled from my Google Drive. In a subsequent step, the column names will be renamed, based on an excel file, which contains the full variable names. Furthermore, the panel data (collected from the end of March 2020 to the beginning of July 2023) was aggregated. Questions that appeared multiple times across the different waves were consolidated (this was the case for most of the variables). For numerical variables, the mean was calculated, and for categorical variables (the majority of which are ordinal), the mode was used. Undoubtedly, this approach leads to a significant loss of information. However, it offered the following advantages:\n",
        "\n",
        "1. **Minimizing missing values significantly:** For example, if a categorical variable had 5 missing values for the same person across 35 waves, the mode was simply calculated from the 30 available values.\n",
        "2. **Greatly simplifying its use as input for an LLM:** Given that this project is just a small showcase I worked on for only a few days, I decided to simplify the data. It would likely be very interesting to feed panel data into an LLM, especially considering the possibility of providing policies in place at the respective time as additional input and contextualizing them with each wave.\n",
        "\n"
      ],
      "metadata": {
        "id": "enCpa9f9N3K2"
      }
    },
    {
      "cell_type": "code",
      "source": [
        "!pip install -q pyreadstat\n",
        "!pip install -q gdown"
      ],
      "metadata": {
        "colab": {
          "base_uri": "https://localhost:8080/"
        },
        "id": "d6y0mG6JoHTx",
        "outputId": "f7dedc1d-69af-42f7-ce9e-0db1753bb0fd"
      },
      "execution_count": null,
      "outputs": [
        {
          "output_type": "stream",
          "name": "stdout",
          "text": [
            "Requirement already satisfied: pyreadstat in /usr/local/lib/python3.11/dist-packages (1.2.8)\n",
            "Requirement already satisfied: pandas>=1.2.0 in /usr/local/lib/python3.11/dist-packages (from pyreadstat) (2.2.2)\n",
            "Requirement already satisfied: numpy>=1.23.2 in /usr/local/lib/python3.11/dist-packages (from pandas>=1.2.0->pyreadstat) (2.0.2)\n",
            "Requirement already satisfied: python-dateutil>=2.8.2 in /usr/local/lib/python3.11/dist-packages (from pandas>=1.2.0->pyreadstat) (2.8.2)\n",
            "Requirement already satisfied: pytz>=2020.1 in /usr/local/lib/python3.11/dist-packages (from pandas>=1.2.0->pyreadstat) (2025.2)\n",
            "Requirement already satisfied: tzdata>=2022.7 in /usr/local/lib/python3.11/dist-packages (from pandas>=1.2.0->pyreadstat) (2025.2)\n",
            "Requirement already satisfied: six>=1.5 in /usr/local/lib/python3.11/dist-packages (from python-dateutil>=2.8.2->pandas>=1.2.0->pyreadstat) (1.17.0)\n"
          ]
        }
      ]
    },
    {
      "cell_type": "code",
      "source": [
        "import pandas as pd\n",
        "import re\n",
        "import gdown\n",
        "import numpy as np"
      ],
      "metadata": {
        "id": "XFjd10_-54er"
      },
      "execution_count": null,
      "outputs": []
    },
    {
      "cell_type": "code",
      "source": [
        " # download data from my drive\n",
        "gdown.download(id=\"1qctiqUK9kS_Hcc-WV-eT1qPW7Ffd832J\", output='data.dta', quiet=False) # unfortunatly the csv does not work, therefore we need to continue with the stata format\n",
        "gdown.download(id=\"1scCcJr5osfZDycxz-cv9C1YECxyJqFjT\", output='desc.xlsx', quiet=False)\n",
        "\n",
        "data = pd.read_stata(\"data.dta\")\n",
        "description = pd.read_excel(\"desc.xlsx\")"
      ],
      "metadata": {
        "id": "lRHCeE_t6acR",
        "colab": {
          "base_uri": "https://localhost:8080/"
        },
        "outputId": "16d4fdbf-88ac-4d7b-c93a-33f8b863cb76"
      },
      "execution_count": null,
      "outputs": [
        {
          "output_type": "stream",
          "name": "stderr",
          "text": [
            "Downloading...\n",
            "From: https://drive.google.com/uc?id=1qctiqUK9kS_Hcc-WV-eT1qPW7Ffd832J\n",
            "To: /content/data.dta\n",
            "100%|██████████| 31.8M/31.8M [00:00<00:00, 104MB/s]\n",
            "Downloading...\n",
            "From: https://drive.google.com/uc?id=1scCcJr5osfZDycxz-cv9C1YECxyJqFjT\n",
            "To: /content/desc.xlsx\n",
            "100%|██████████| 471k/471k [00:00<00:00, 85.7MB/s]\n"
          ]
        }
      ]
    },
    {
      "cell_type": "code",
      "source": [
        "# data.head(10)"
      ],
      "metadata": {
        "id": "jqwaT2jE8YLg"
      },
      "execution_count": null,
      "outputs": []
    },
    {
      "cell_type": "code",
      "source": [
        "# description.head(10)"
      ],
      "metadata": {
        "id": "JKENbqvp-pn_"
      },
      "execution_count": null,
      "outputs": []
    },
    {
      "cell_type": "code",
      "source": [
        "# get variable names\n",
        "wave_columns = [col for col in description.columns if re.match(r\"W\\d+-Q-Nr\\.\", col)]\n",
        "variable_names = description[\"Variables\"]\n",
        "\n",
        "print(variable_names)"
      ],
      "metadata": {
        "id": "5HW-nHZh_rsH",
        "colab": {
          "base_uri": "https://localhost:8080/"
        },
        "outputId": "958e1cea-7bb1-47da-8670-a981940bd845"
      },
      "execution_count": null,
      "outputs": [
        {
          "output_type": "stream",
          "name": "stdout",
          "text": [
            "0                  Block A: Pre-Fragebogen\n",
            "1                               Geschlecht\n",
            "2                              Geburtsjahr\n",
            "3                  Höchster Schulabschluss\n",
            "4                               Bundesland\n",
            "                       ...                \n",
            "1379                              PTV: MFG\n",
            "1380    Stimmabgabe: Nationalratswahl 2019\n",
            "1381           Wahlabsicht (Sonntagsfrage)\n",
            "1382                   Lebenszufriedenheit\n",
            "1383     Lebenszufriedenheit: Im Jahr 2019\n",
            "Name: Variables, Length: 1384, dtype: object\n"
          ]
        }
      ]
    },
    {
      "cell_type": "code",
      "source": [
        "column_map = {} # save the proper variable names in this dict\n",
        "\n",
        "for i, varname in enumerate(description[\"Variables\"]):\n",
        "    for wave_col in wave_columns:\n",
        "        wave_code = description.at[i, wave_col]\n",
        "        if pd.notna(wave_code):\n",
        "            # extract the wave number (e.g., 6 from \"W6-Q-Nr.\")\n",
        "            wave_number = re.search(r\"W(\\d+)\", wave_col).group(1)\n",
        "            var_code = wave_code.strip().replace(\" \", \"\")\n",
        "            full_colname = f\"W{wave_number}_{var_code}\"\n",
        "\n",
        "            # Save mapping in the dict\n",
        "            column_map[full_colname] = varname\n",
        "\n",
        "# print(column_map)"
      ],
      "metadata": {
        "id": "7MkWBEoDlqIq"
      },
      "execution_count": null,
      "outputs": []
    },
    {
      "cell_type": "code",
      "source": [
        "# replace the abbrevations with the real variable names\n",
        "def rename_column(col):\n",
        "    # match columns\n",
        "    match = re.match(r\"(W\\d+)[_]?([A-Z0-9]+)\", col)\n",
        "    # if they match replace the abbrevations with the variable names\n",
        "    if match:\n",
        "        wave = match.group(1)\n",
        "        var_code = match.group(2)\n",
        "        full_code = f\"{wave}_{var_code}\"\n",
        "        if full_code in column_map:\n",
        "            return f\"{wave}_{column_map[full_code]}\"\n",
        "    return col  # leave unchanged if no match\n",
        "\n",
        "# apply to all columns\n",
        "data = data.rename(columns=rename_column)"
      ],
      "metadata": {
        "id": "3ejcUzOMgQhR"
      },
      "execution_count": null,
      "outputs": []
    },
    {
      "cell_type": "code",
      "source": [
        "data.head(10) # looks alright"
      ],
      "metadata": {
        "id": "DbegNXWrofex"
      },
      "execution_count": null,
      "outputs": []
    },
    {
      "cell_type": "code",
      "source": [
        "# delete unecessary columns, important: weight columns, could be interesting for the \"real\" project, for now i'm deleting them for simplicity\n",
        "start_index = data.columns.get_loc(\"W1W32_WEIGHTP\")\n",
        "data = data.iloc[:, start_index + 1:]"
      ],
      "metadata": {
        "id": "9L1dReBCohG6"
      },
      "execution_count": null,
      "outputs": []
    },
    {
      "cell_type": "code",
      "source": [
        "def aggregate_panel_data(df):\n",
        "    var_groups = {}\n",
        "\n",
        "    # group columns by base variable name\n",
        "    for col in df.columns:\n",
        "        if '_' in col:\n",
        "            wave, var = col.split(\"_\", 1)\n",
        "            var_groups.setdefault(var, []).append(col)\n",
        "        else:\n",
        "            var_groups.setdefault(col, []).append(col)\n",
        "\n",
        "    processed_columns = []\n",
        "\n",
        "    for var, cols in var_groups.items():\n",
        "\n",
        "        # check variable type\n",
        "        first_col = cols[0]\n",
        "\n",
        "        if pd.api.types.is_numeric_dtype(df[first_col]):\n",
        "            # numerical variable: take mean\n",
        "            agg_col = df[cols].mean(axis=1).rename(var)\n",
        "        else:\n",
        "            # categorical variable: take mode\n",
        "            mode_df = df[cols].apply(\n",
        "                lambda row: row.dropna().mode()[0] if not row.dropna().empty else np.nan,\n",
        "                axis=1\n",
        "            ).rename(var)\n",
        "            agg_col = mode_df.astype(df[first_col].dtype)\n",
        "\n",
        "        processed_columns.append(agg_col)\n",
        "\n",
        "    # Concatenate all columns at once\n",
        "    return pd.concat(processed_columns, axis=1)\n",
        "\n",
        "\n",
        "agg_data = aggregate_panel_data(data)\n"
      ],
      "metadata": {
        "id": "R98OJlK1q1O_"
      },
      "execution_count": null,
      "outputs": []
    },
    {
      "cell_type": "code",
      "source": [
        "# save data\n",
        "# from google.colab import files\n",
        "# agg_data.to_csv('agg_data.csv', index=False)\n",
        "# files.download('agg_data.csv')\n"
      ],
      "metadata": {
        "colab": {
          "base_uri": "https://localhost:8080/",
          "height": 17
        },
        "id": "aQ1NEX6I78pZ",
        "outputId": "f181386d-e875-4807-fb9d-efb608a445f9"
      },
      "execution_count": null,
      "outputs": [
        {
          "output_type": "display_data",
          "data": {
            "text/plain": [
              "<IPython.core.display.Javascript object>"
            ],
            "application/javascript": [
              "\n",
              "    async function download(id, filename, size) {\n",
              "      if (!google.colab.kernel.accessAllowed) {\n",
              "        return;\n",
              "      }\n",
              "      const div = document.createElement('div');\n",
              "      const label = document.createElement('label');\n",
              "      label.textContent = `Downloading \"${filename}\": `;\n",
              "      div.appendChild(label);\n",
              "      const progress = document.createElement('progress');\n",
              "      progress.max = size;\n",
              "      div.appendChild(progress);\n",
              "      document.body.appendChild(div);\n",
              "\n",
              "      const buffers = [];\n",
              "      let downloaded = 0;\n",
              "\n",
              "      const channel = await google.colab.kernel.comms.open(id);\n",
              "      // Send a message to notify the kernel that we're ready.\n",
              "      channel.send({})\n",
              "\n",
              "      for await (const message of channel.messages) {\n",
              "        // Send a message to notify the kernel that we're ready.\n",
              "        channel.send({})\n",
              "        if (message.buffers) {\n",
              "          for (const buffer of message.buffers) {\n",
              "            buffers.push(buffer);\n",
              "            downloaded += buffer.byteLength;\n",
              "            progress.value = downloaded;\n",
              "          }\n",
              "        }\n",
              "      }\n",
              "      const blob = new Blob(buffers, {type: 'application/binary'});\n",
              "      const a = document.createElement('a');\n",
              "      a.href = window.URL.createObjectURL(blob);\n",
              "      a.download = filename;\n",
              "      div.appendChild(a);\n",
              "      a.click();\n",
              "      div.remove();\n",
              "    }\n",
              "  "
            ]
          },
          "metadata": {}
        },
        {
          "output_type": "display_data",
          "data": {
            "text/plain": [
              "<IPython.core.display.Javascript object>"
            ],
            "application/javascript": [
              "download(\"download_759fe696-d674-4a42-a1a5-7064ebaff4ec\", \"agg_data.csv\", 42697321)"
            ]
          },
          "metadata": {}
        }
      ]
    }
  ]
}